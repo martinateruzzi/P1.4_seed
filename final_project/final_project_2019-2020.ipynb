{
 "cells": [
  {
   "cell_type": "markdown",
   "metadata": {},
   "source": [
    "# Final project\n",
    "The Allen–Cahn equation (after John W. Cahn and Sam Allen) is a reaction–diffusion equation of mathematical physics which describes the process of phase separation in multi-component alloy systems, including order-disorder transitions.\n",
    "\n",
    "The equation describes the time evolution of a scalar-valued state variable $\\eta$  on a domain $\\Omega=[0,1]$  during a time interval $[0,T]$, and is given (in one dimension) by:\n",
    "\n",
    "$$\n",
    "\\frac{\\partial \\eta}{\\partial t} - \\varepsilon^2 \\eta'' + f'(\\eta) = 0, \\qquad \\eta'(0, t) = \\eta'(1, t) = 0,\\qquad\\eta(x,0) = \\eta_0(x)\n",
    "$$\n",
    "\n",
    "where $f$ is a double-well potential, $\\eta_0$ is the initial condition, and $\\varepsilon$ is the characteristic width of the phase transition.\n",
    "\n",
    "This equation is the L2 gradient flow of the Ginzburg–Landau free energy functional, and it is closely related to the Cahn–Hilliard equation.\n",
    "\n",
    "A typical example of double well potential is given by the following function\n",
    "\n",
    "$$\n",
    "f(\\eta) = \\eta^2(\\eta-1)^2\n",
    "$$\n",
    "\n",
    "which has two minima in $0$ and $1$ (the two wells, where its value is zero), one local maximum in $0.5$, and it is always greater or equal than zero.\n",
    "\n",
    "The two minima above behave like \"attractors\" for the phase $\\eta$. Think of a solid-liquid phase transition (say water+ice) occupying the region $[0,1]$. When $\\eta = 0$, then the material is liquid, while when $\\eta = 1$ the material is solid (or viceversa).\n",
    "\n",
    "Any other value for $\\eta$ is *unstable*, and the equation will pull that region towards either $0$ or $1$.\n",
    "\n",
    "Discretisation of this problem can be done by finite difference in time. For example, a fully explicity discretisation in time would lead to the following algorithm.\n",
    "\n",
    "We split the interval $[0,T]$ in `n_steps` intervals, of dimension `dt = T/n_steps`. Given the solution at time `t[k] = k*dt`, it i possible to compute the next solution at time `t[k+1]` as\n",
    "\n",
    "$$\n",
    "\\eta_{k+1} = \\eta_{k} + \\Delta t \\varepsilon^2 \\eta_k'' - \\Delta t f'(\\eta_k)\n",
    "$$\n",
    "\n",
    "Such a solution will not be stable. A possible remedy that improves the stability of the problem, is to treat the linear term $\\Delta t \\varepsilon^2 \\eta_k''$ implicitly, and keep the term $-f'(\\eta_k)$ explicit, that is:\n",
    "\n",
    "$$\n",
    "\\eta_{k+1} - \\Delta t \\varepsilon^2 \\eta_k'' = \\eta_{k} - \\Delta t f'(\\eta_k)\n",
    "$$\n",
    "\n",
    "Grouping together the terms on the right hand side, this problem is identical to the one we solved in the python notebook number 9, with the exception of the constant $\\Delta t \\varepsilon^2$ in front the stiffness matrix.\n",
    "\n",
    "In particular, given a set of basis functions $v_i$, representing $\\eta = \\eta^j v_j$ (sum is implied), we can solve the problem using finite elements by computing\n",
    "\n",
    "$$\n",
    "\\big((v_i, v_j) + \\Delta t \\varepsilon^2  (v_i', v_j')\\big) \\eta^j_{k+1} = \\big((v_i, v_j) \\eta^j_{k} - \\Delta t (v_i, f'(\\eta_k)\\big)\n",
    "$$\n",
    "where a sum is implied over $j$ on both the left hand side and the right hand side. Let us remark that while writing this last version of the equation we moved from a forward Euler scheme to a backward Euler scheme for the second spatial derivative term: that is, we used $\\eta^j_{k+1}$ instead of $\\eta^j_{k}$.\n",
    "\n",
    "\n",
    "This results in a linear system\n",
    "\n",
    "$$\n",
    "A x = b\n",
    "$$\n",
    "\n",
    "where \n",
    "\n",
    "$$\n",
    "A_{ij} = M_{ij}+ \\Delta t \\varepsilon^2 K_{ij} = \\big((v_i, v_j) + \\Delta t \\varepsilon^2  (v_i', v_j')\\big) \n",
    "$$\n",
    "\n",
    "and \n",
    "\n",
    "$$\n",
    "b_i = M_{ij} \\big(\\eta_k^j - \\Delta t f'(\\eta_k^j)\\big)\n",
    "$$\n",
    "\n",
    "where we simplified the integration on the right hand side, by computing the integral of the interpolation of $f'(\\eta)$.\n",
    "\n",
    "## Step 1\n",
    "\n",
    "Write a finite element solver, to solve one step of the problem above, given the solution at the previous time step, using the same techniques used in notebook number 9.\n",
    "\n",
    "In particular:\n",
    "\n",
    "1. Write a function that takes in input a vector representing $\\eta$, an returns a vector containing $f'(\\eta)$. Call this function `F`.\n",
    "\n",
    "2. Write a function that takes in input a vector of support points of dimension `ndofs` and the degree `degree` of the polynomial basis, and returns a list of basis functions (piecewise polynomial objects of type `PPoly`) of dimension `ndofs`, representing the interpolatory spline basis of degree `degree`\n",
    "\n",
    "3. Write a function that, given a piecewise polynomial object of type `PPoly` and a number `n_gauss_quadrature_points`, computes the vector of global_quadrature_points and global_quadrature_weights, that contains replicas of a Gauss quadrature formula with `n_gauss_quadrature_points` on each of the intervals defined by `unique(PPoly.x)`\n",
    "\n",
    "4. Write a function that, given the basis and the quadrature points and weights, returns the two matrices $M$ and $K$ \n",
    "\n",
    "## Step 2\n",
    "\n",
    "Solve the Allen-Cahan equation on the interval $[0,1]$, from time $t=0$ and time $t=1$, given a time step `dt`, a number of degrees of freedom `ndofs`, and a polynomial degree `k`.\n",
    "\n",
    "1. Write a function that takes the initial value of $\\eta_0$ as a function, eps, dt, ndofs, and degree, and returns a matrix of dimension `(int(T/dt), ndofs)`  containing all the coefficients $\\eta_k^i$ representing the solution, and the set of basis functions used to compute the solution\n",
    "\n",
    "2. Write a function that takes all the solutions `eta`, the basis functions, a stride number `s`, and a resolution `res`, and plots on a single plot the solutions $\\eta_0$, $\\eta_s$, $\\eta_{2s}$, computed on `res` equispaced points between zero and one\n",
    "\n",
    "## Step 3\n",
    "\n",
    "Solve the problem for all combinations of\n",
    "\n",
    "1. eps = [01, .001]\n",
    "\n",
    "2. ndofs = [16, 32, 64, 128]\n",
    "\n",
    "3. degree = [1, 2, 3]\n",
    "\n",
    "3. dt = [.25, .125, .0625, .03125, .015625]\n",
    "\n",
    "with $\\eta_0 = \\sin(2 \\pi x)+1$.\n",
    "\n",
    "Plot the final solution at $t=1$ in all cases. What do you observe? What happens when you increase ndofs and keep dt constant? \n",
    "\n",
    "## Step 4 (Optional)\n",
    "\n",
    "Instead of solving the problem explicitly, solve it implicitly, by using backward euler method also for the non linear term. This requires the solution of a Nonlinear problem at every step. Use scipy and numpy methods to solve the non linear iteration."
   ]
  },
  {
   "cell_type": "code",
   "execution_count": 1,
   "metadata": {},
   "outputs": [],
   "source": [
    "import numpy as np\n",
    "import matplotlib.pyplot as plt\n",
    "#%pylab inline\n",
    "import sympy as sym\n",
    "import scipy\n",
    "from scipy.interpolate import *\n",
    "from scipy.integrate import *"
   ]
  },
  {
   "cell_type": "code",
   "execution_count": 2,
   "metadata": {},
   "outputs": [],
   "source": [
    "# Step 1.1\n",
    "\n",
    "def f(eta):\n",
    "    # double well potential function\n",
    "    return eta**2 * (eta-1)**2\n",
    "\n",
    "def F(eta):\n",
    "    # Fill in with the derivative of the double well potential function\n",
    "    return 2.*eta*(eta-1)**2 + 2.*eta**2 * (eta-1)"
   ]
  },
  {
   "cell_type": "code",
   "execution_count": 3,
   "metadata": {},
   "outputs": [
    {
     "data": {
      "image/png": "[encoded data removed]",
      "text/plain": [
       "<Figure size 432x288 with 1 Axes>"
      ]
     },
     "metadata": {},
     "output_type": "display_data"
    }
   ],
   "source": [
    "N = 1025 #points to displace my function\n",
    "x = np.linspace(0,1,N)\n",
    "\n",
    "_ = plt.plot(x,f(x))\n",
    "_ = plt.plot(x,F(x))"
   ]
  },
  {
   "cell_type": "code",
   "execution_count": 4,
   "metadata": {},
   "outputs": [],
   "source": [
    "# Step 1.2\n",
    "\n",
    "nd = 16\n",
    "q = np.linspace(0,1,nd)\n",
    "deg = 3\n",
    "\n",
    "def compute_basis_functions(support_points, degree):\n",
    "    # Insert here what was in notebook 9\n",
    "    \n",
    "    basis = []\n",
    "    dbasis = []\n",
    "    \n",
    "    for i in range(len(support_points)):\n",
    "        c = support_points*0\n",
    "        c[i] = 1\n",
    "        bi = PPoly.from_spline(splrep(support_points,c,k=degree))\n",
    "        \n",
    "        basis.append(bi)\n",
    "        dbasis.append(bi.derivative(1))\n",
    "  \n",
    "    # after you have computed the basis, return it\n",
    "    return basis, dbasis"
   ]
  },
  {
   "cell_type": "code",
   "execution_count": 5,
   "metadata": {},
   "outputs": [],
   "source": [
    "#basis, dbasis = compute_basis_functions(q,deg)\n",
    "\n",
    "#B = np.zeros((N,nd))\n",
    "#dB = np.zeros((N,nd))\n",
    "\n",
    "#for i in range(nd): \n",
    "#    B[:,i] = basis[i](x)\n",
    "#    dB[:,i] = dbasis[i](x)\n",
    "\n",
    "\n",
    "#_ = plt.plot(x,B)"
   ]
  },
  {
   "cell_type": "code",
   "execution_count": 6,
   "metadata": {},
   "outputs": [],
   "source": [
    "# This can be used to compute the piecewise polynomial interpolation of our function\n",
    "\n",
    "#yq = F(q) #value at interpolation points\n",
    "\n",
    "#_ = plt.plot(x, F(x))\n",
    "#_ = plt.plot(q, yq, 'ro') #interpolation points and function value\n",
    "#_ = plt.plot(x, B.dot(F(q))) #nterpolation function with basis"
   ]
  },
  {
   "cell_type": "code",
   "execution_count": 7,
   "metadata": {},
   "outputs": [],
   "source": [
    "# Now let's compute the least square approximation of `F` on all points `x`\n",
    "# This is the same as computing the L2 projection when we approximate the integral by sum(1/N*f(x_i))\n",
    "\n",
    "#BtB = B.T.dot(B)\n",
    "#pL2 = np.linalg.solve(BtB, B.T.dot(F(x)))"
   ]
  },
  {
   "cell_type": "code",
   "execution_count": 8,
   "metadata": {},
   "outputs": [],
   "source": [
    "# Let's plot the approximated function, together with the interpolation\n",
    "\n",
    "#_ = plt.plot(x, F(x))\n",
    "#_ = plt.plot(x, B.dot(F(q)))\n",
    "#_ = plt.plot(x, B.dot(pL2))\n",
    "#_ = plt.plot(q, F(q), 'ro')\n",
    "#_ = plt.plot(q, pL2, 'go')"
   ]
  },
  {
   "cell_type": "code",
   "execution_count": 9,
   "metadata": {},
   "outputs": [],
   "source": [
    "# Step 1.3\n",
    "\n",
    "def compute_global_quadrature(basis, n_gauss_quadrature_points):\n",
    "    # Create a Gauss quadrature formula with n_gauss_quadrature_points, extract the intervals from basis (i.e., unique(basis.x)), and \n",
    "    # create len(x)-1 shifted and scaled Gauss quadrature formulas that can be used to integrate on each interval. Put all of these \n",
    "    # together, and return the result\n",
    "    \n",
    "    # Make sure every interval border is taken only once\n",
    "    intervals = np.unique(basis[0].x) # Make sure every interval border is taken only once\n",
    "    qp, w = np.polynomial.legendre.leggauss(n_gauss_quadrature_points)\n",
    "    qp = (qp+1)/2 # Rescale the points and weights to work in [0,1]\n",
    "    w /= 2\n",
    "    \n",
    "    # Now replicate these points and weights in all the intervals\n",
    "    h = np.diff(intervals)\n",
    "    Q = np.array([intervals[i]+h[i]*qp for i in range(len(h))]).reshape((-1,))\n",
    "    W = np.array([w*h[i] for i in range(len(h))]).reshape((-1,))\n",
    "    \n",
    "    #return gloabl_quadrature, global_weights\n",
    "    return Q, W"
   ]
  },
  {
   "cell_type": "code",
   "execution_count": 10,
   "metadata": {},
   "outputs": [],
   "source": [
    "#Q, W = compute_global_quadrature(basis,degree+1)"
   ]
  },
  {
   "cell_type": "code",
   "execution_count": 12,
   "metadata": {},
   "outputs": [],
   "source": [
    "# Step 1.4\n",
    "\n",
    "def compute_system_matrices(basis, dbasis, global_quadrature, global_weights):\n",
    "    # Compute the matrices M_ij = (v_i, v_j) and K_ij = (v_i', v_j') and return them\n",
    "    \n",
    "    Bq = np.array([basis[i](global_quadrature) for i in range(len(basis))]).T\n",
    "    dBq = np.array([dbasis[j](global_quadrature) for j in range(len(basis))]).T\n",
    "        \n",
    "    M = np.einsum('qi, q, qj', Bq, global_weights, Bq)\n",
    "    K = np.einsum('qi, q, qj', dBq, global_weights, dBq)\n",
    "    \n",
    "    # return M, K\n",
    "    return M,K"
   ]
  },
  {
   "cell_type": "code",
   "execution_count": 13,
   "metadata": {},
   "outputs": [],
   "source": [
    "#M, K = compute_system_matrices(basis, Q, W)"
   ]
  },
  {
   "cell_type": "code",
   "execution_count": 28,
   "metadata": {},
   "outputs": [],
   "source": [
    "# Step 2.1\n",
    "\n",
    "def solve_allen_cahan(eta_0_function, eps, dt, ndofs, degree):\n",
    "    ''' put together all the above functions, loop over time, \n",
    "    and produce the result matrix eta, containing the solution at all points'''\n",
    "    \n",
    "    T = 1.-0. #time interval\n",
    "    eta = np.zeros((int(T/dt), ndofs))\n",
    "    \n",
    "    support_points = np.linspace(0,1,ndofs) # support points\n",
    "    basis, dbasis = compute_basis_functions(support_points,degree)\n",
    "    Q, W = compute_global_quadrature(basis,degree+1)\n",
    "    M, K = compute_system_matrices(basis, dbasis, Q, W)\n",
    "    A = M + dt*eps*eps*K\n",
    "    \n",
    "    eta_old = eta_0_function(support_points)\n",
    "    \n",
    "    for i in range(int(T/dt)):\n",
    "            b = M.dot(eta_old - dt*F(eta_old))\n",
    "            eta_new = np.linalg.solve(A,b)\n",
    "            eta[i,:] = eta_new\n",
    "            eta_old = eta_new\n",
    "    \n",
    "    return eta, basis"
   ]
  },
  {
   "cell_type": "code",
   "execution_count": 15,
   "metadata": {},
   "outputs": [],
   "source": [
    "def etazero(x):\n",
    "    # Fill in with the derivative of the double well potential function\n",
    "    return np.sin(2.*np.pi*x) + 1"
   ]
  },
  {
   "cell_type": "code",
   "execution_count": 16,
   "metadata": {},
   "outputs": [],
   "source": [
    "#eta.shape"
   ]
  },
  {
   "cell_type": "code",
   "execution_count": 17,
   "metadata": {},
   "outputs": [
    {
     "data": {
      "text/plain": [
       "'q = np.linspace(0,1,nd)\\nT = 1.-0.\\ndt = .25\\n\\n\\nfor i in range(int(T/dt)):\\n    _ = plt.plot(q,eta[i,:])'"
      ]
     },
     "execution_count": 17,
     "metadata": {},
     "output_type": "execute_result"
    }
   ],
   "source": [
    "#Plotting coefficients\n",
    "\n",
    "'''q = np.linspace(0,1,nd)\n",
    "T = 1.-0.\n",
    "dt = .25\n",
    "\n",
    "\n",
    "for i in range(int(T/dt)):\n",
    "    _ = plt.plot(q,eta[i,:])'''"
   ]
  },
  {
   "cell_type": "code",
   "execution_count": 18,
   "metadata": {},
   "outputs": [],
   "source": [
    "# Step 2.2 \n",
    "\n",
    "def plot_solution(eta, basis, stride, resolution):\n",
    "    # plot eta[::stride], on x = linspace(0,1,resolution)\n",
    "    x = np.linspace(0,1,resolution)\n",
    "    \n",
    "    B = np.zeros((resolution,len(basis)))\n",
    "              \n",
    "    for i in range(len(basis)):\n",
    "        B[:,i] = basis[i](x)\n",
    "    \n",
    "    eta_strided = eta[::stride].dot(B.T)\n",
    "    for i in range(stride):\n",
    "        _ = plt.plot(np.linspace(0,1,resolution),eta_strided[i,:]) \n",
    "    # plot(...)"
   ]
  },
  {
   "cell_type": "code",
   "execution_count": 29,
   "metadata": {},
   "outputs": [],
   "source": [
    "# Step 3 \n",
    "\n",
    "def last_solution(eta, basis, resolution):\n",
    "    # plot eta[-1], on x = linspace(0,1,resolution)\n",
    "    x = np.linspace(0,1,resolution)\n",
    "    \n",
    "    B = np.zeros((resolution,len(basis)))\n",
    "              \n",
    "    for i in range(len(basis)):\n",
    "        B[:,i] = basis[i](x)\n",
    "    \n",
    "    eta_last = eta[-1].dot(B.T)\n",
    "    return eta_last"
   ]
  },
  {
   "cell_type": "code",
   "execution_count": 27,
   "metadata": {},
   "outputs": [
    {
     "data": {
      "image/png": "[encoded data removed]",
      "text/plain": [
       "<Figure size 432x288 with 1 Axes>"
      ]
     },
     "metadata": {},
     "output_type": "display_data"
    }
   ],
   "source": [
    "resolution = 1025\n",
    "\n",
    "for eps in [.01,.001]:\n",
    "    for ndofs in [16, 32, 64, 128]:\n",
    "        for degree in [1,2,3]:\n",
    "                for dt in [.25, .125, .0625, .03125, .015625]:\n",
    "                    eta, basis = solve_allen_cahan(etazero, eps, dt, ndofs, degree)\n",
    "                    toplot = last_solution(eta,basis,resolution)\n",
    "                    _ = plt.plot(np.linspace(0,1,resolution),toplot)\n",
    "#for eps in [.01,.001]:\n",
    "#    eta, basis = solve_allen_cahan(etazero, eps, .25, 16, degree)\n",
    "#    print(eta.shape[0])\n",
    "#    #plot_solution(eta,basis,2,1025)\n",
    "#    _ = plt.plot(np.linspace(0,1,1025),eta[-1,:])\n",
    "\n",
    "#Step 3.3\n",
    "\n",
    "#\n",
    "#    \n",
    "#        \n",
    "#            \n",
    "#                eta, basis = solve_allen_cahan(etazero, eps, dt, ndofs, degree)"
   ]
  }
 ],
 "metadata": {
  "kernelspec": {
   "display_name": "Python 3",
   "language": "python",
   "name": "python3"
  },
  "language_info": {
   "codemirror_mode": {
    "name": "ipython",
    "version": 3
   },
   "file_extension": ".py",
   "mimetype": "text/x-python",
   "name": "python",
   "nbconvert_exporter": "python",
   "pygments_lexer": "ipython3",
   "version": "3.6.9"
  }
 },
 "nbformat": 4,
 "nbformat_minor": 4
}
