{
 "cells": [
  {
   "cell_type": "markdown",
   "metadata": {},
   "source": [
    "# Iterative methods for solving linear systems\n",
    "\n",
    "\n"
   ]
  },
  {
   "cell_type": "markdown",
   "metadata": {},
   "source": [
    "Recall the prototypal PDE problem introduced in the Lecture 08:\n",
    "$$\n",
    "-u_{xx}(x) = f(x)\\quad\\mathrm{ in }\\ \\Omega = (0, 1)\n",
    "$$\n",
    "$$\n",
    "u(x) = 0, \\quad\\mathrm{ on }\\ \\partial\\Omega = \\{0, 1\\}\n",
    "$$\n",
    "\n",
    "For the numerical discretization of the problem, we consider a **Finite Difference (FD) Approximation**. Let $n$ be an integer, a consider a uniform subdivision of the interval $(0,1)$ using $n$ equispaced points, denoted by $\\{x_i\\}_{i=0}^n$ . Moreover, let $u_i$ be the FD approximation of $u(x_i)$, and similarly $f_i \\approx f(x_i)$.\n",
    "\n",
    "The linear system that we need to solve is\n",
    "$$\n",
    "u_i = 0 \\qquad\\qquad\\qquad\\qquad i=0,\n",
    "$$\n",
    "$$\n",
    "\\frac{-u_{i-1} + 2u_i - u_{i+1}}{h^2} = f_i \\qquad\\qquad\\qquad i=1, \\ldots, n-1,\\qquad\\qquad\\qquad(P)\n",
    "$$\n",
    "$$\n",
    "u_i = 0 \\qquad\\qquad\\qquad\\qquad i=n.\n",
    "$$"
   ]
  },
  {
   "cell_type": "code",
   "execution_count": 13,
   "metadata": {},
   "outputs": [
    {
     "name": "stdout",
     "output_type": "stream",
     "text": [
      "[[ 2048. -1024.     0. ...     0.     0.     0.]\n",
      " [-1024.  2048. -1024. ...     0.     0.     0.]\n",
      " [    0. -1024.  2048. ...     0.     0.     0.]\n",
      " ...\n",
      " [    0.     0.     0. ...  2048. -1024.     0.]\n",
      " [    0.     0.     0. ... -1024.  2048. -1024.]\n",
      " [    0.     0.     0. ...     0. -1024.  2048.]]\n",
      "[0.         0.00260162 0.00517368 0.00768852 0.01012039 0.01244545\n",
      " 0.01464176 0.0166893  0.01856995 0.02026749 0.02176762 0.02305794\n",
      " 0.02412796 0.0249691  0.02557468 0.02593994 0.02606201 0.02593994\n",
      " 0.02557468 0.0249691  0.02412796 0.02305794 0.02176762 0.02026749\n",
      " 0.01856995 0.0166893  0.01464176 0.01244545 0.01012039 0.00768852\n",
      " 0.00517368 0.00260162 0.        ]\n"
     ]
    }
   ],
   "source": [
    "%matplotlib inline\n",
    "from numpy import *\n",
    "from matplotlib.pyplot import *\n",
    "\n",
    "n = 33\n",
    "h = 1./(n-1)\n",
    "\n",
    "x=linspace(0,1,n)\n",
    "\n",
    "a = -ones((n-1,)) # Offdiagonal entries\n",
    "b = 2*ones((n,)) # Diagonal entries\n",
    "A = (diag(a, -1) + diag(b, 0) + diag(a, +1))\n",
    "#print(A)\n",
    "A /= h**2\n",
    "print(A)\n",
    "f = x*(1.-x)\n",
    "#print(type(f))\n",
    "\n",
    "#print('\\n')\n",
    "\n",
    "# Change first row of the matrix A\n",
    "A[0,:] = 0\n",
    "A[:,0] = 0\n",
    "A[0,0] = 1\n",
    "f[0] = 0 #boundary condition\n",
    "#print(A)\n",
    "\n",
    "# Change last row of the matrix A\n",
    "A[-1,:] = 0\n",
    "A[:,-1] = 0\n",
    "A[-1,-1] = 1\n",
    "f[-1] = 0\n",
    "\n",
    "# Solution by direct method\n",
    "u = linalg.solve(A, f)\n",
    "print(u)"
   ]
  },
  {
   "cell_type": "markdown",
   "metadata": {},
   "source": [
    "## Jacobi\n",
    "\n",
    "$$ \n",
    "x_i^{k+1} = \\frac{1}{A_{ii}} \\times \\left(b_i - \\sum_{j\\neq i} a_{ij}x_j^k\\right)\n",
    "$$\n",
    "\n"
   ]
  },
  {
   "cell_type": "code",
   "execution_count": 15,
   "metadata": {
    "scrolled": true
   },
   "outputs": [
    {
     "ename": "IndentationError",
     "evalue": "expected an indented block (<ipython-input-15-2a8f2f178138>, line 5)",
     "output_type": "error",
     "traceback": [
      "\u001b[0;36m  File \u001b[0;32m\"<ipython-input-15-2a8f2f178138>\"\u001b[0;36m, line \u001b[0;32m5\u001b[0m\n\u001b[0;31m    sol_jacobi = jacobi(A, f)\u001b[0m\n\u001b[0m                             ^\u001b[0m\n\u001b[0;31mIndentationError\u001b[0m\u001b[0;31m:\u001b[0m expected an indented block\n"
     ]
    }
   ],
   "source": [
    "def jacobi(A, b, nmax=10000, eps=1e-10):\n",
    "    n = len(A)\n",
    "    x=linspace(0,1,n)\n",
    "    count = 0\n",
    "    for i in range(n):\n",
    "        assert count < nmax\n",
    "\n",
    "sol_jacobi = jacobi(A, f)\n",
    "print(linalg.norm(sol_jacobi - u)/linalg.norm(u))"
   ]
  },
  {
   "cell_type": "markdown",
   "metadata": {},
   "source": [
    "## Gauss-Seidel\n",
    "\n",
    "$$ \n",
    "x_i^{k+1} = \\frac{1}{A_{ii}} \\times \\left(b_i - \\sum_{j=0}^{i-1} a_{ij}x_j^{k+1} - \\sum_{j=i+1}^{N} a_{ij}x_j^k\\right)\n",
    "$$"
   ]
  },
  {
   "cell_type": "code",
   "execution_count": 7,
   "metadata": {},
   "outputs": [
    {
     "name": "stdout",
     "output_type": "stream",
     "text": [
      "2390 9.9530299764e-11\n",
      "9.57731380802e-11\n"
     ]
    }
   ],
   "source": [
    "def gauss_seidel(A,b,nmax=10000, eps=1e-10):\n",
    "    pass # TODO\n",
    "\n",
    "sol_gauss_seidel = gauss_seidel(A, f)\n",
    "print(linalg.norm(sol_gauss_seidel - u)/linalg.norm(u))"
   ]
  },
  {
   "cell_type": "markdown",
   "metadata": {},
   "source": [
    "   ## Gradient method\n",
    "   $$\n",
    "   {\\bf r}^k = {\\bf b} - A {\\bf x}^k\n",
    "   $$\n",
    "   \n",
    "   $$\n",
    "   \\alpha^k = \\frac{{\\bf r}^{k^{T}} {\\bf r}^k}{{\\bf r}^{k^{T}} A{\\bf r}^k}\n",
    "   $$\n",
    "   \n",
    "   $$\n",
    "   {\\bf x}^{k+1} = {\\bf x}^k + \\alpha^k {\\bf r}^k\n",
    "   $$\n",
    "   \n",
    "   ### Preconditioned gradient method\n",
    "   $$\n",
    "   P{\\bf z}^k =  {\\bf r}^k\n",
    "   $$\n",
    "   \n",
    "   $$\n",
    "   \\alpha^k = \\frac{{\\bf z}^{k^{T}} {\\bf r}^k}{{\\bf z}^{k^{T}} A{\\bf z}^k}\n",
    "   $$\n",
    " \n",
    "   $$\n",
    "   {\\bf x}^{k+1} = {\\bf x}^k + \\alpha^k {\\bf z}^k\n",
    "   $$ \n",
    "   \n",
    "   $$\n",
    "   {\\bf r}^{k+1} = {\\bf r}^k  - \\alpha^k A{\\bf z}^k\n",
    "   $$"
   ]
  },
  {
   "cell_type": "code",
   "execution_count": 8,
   "metadata": {},
   "outputs": [
    {
     "name": "stdout",
     "output_type": "stream",
     "text": [
      "3909 9.94753934189e-11\n",
      "7.09530597579e-11\n",
      "1 1.20640538134e-14\n",
      "2.68805760723e-15\n"
     ]
    }
   ],
   "source": [
    "def gradient(A, b, P, nmax=8000, eps=1e-10):\n",
    "    pass # TODO\n",
    "    \n",
    "sol_gradient = gradient(A, f, identity(len(A)))\n",
    "print(linalg.norm(sol_gradient - u)/linalg.norm(u))\n",
    "sol_preconditioned_gradient = gradient(A, f, A)\n",
    "print(linalg.norm(sol_preconditioned_gradient - u)/linalg.norm(u))"
   ]
  },
  {
   "cell_type": "markdown",
   "metadata": {},
   "source": [
    "## Conjugate gradient\n",
    "   \n",
    "   $$\n",
    "   \\alpha^k = \\frac{{\\bf p}^{k^{T}} {\\bf r}^k}{{\\bf p}^{k^{T}} A{\\bf p}^k}\n",
    "   $$\n",
    "   \n",
    "      \n",
    "   $$\n",
    "   {\\bf x}^{k+1} = {\\bf x}^k + \\alpha^k {\\bf p}^k\n",
    "   $$\n",
    "   \n",
    "   $$\n",
    "   {\\bf r}^{k+1} = {\\bf r}^k - \\alpha^kA {\\bf p}^k\n",
    "   $$\n",
    "\n",
    "   $$\n",
    "   \\beta^k = \\frac{(A{\\bf p}^{k})^{T}{\\bf r}^{k+1}}{(A{\\bf p}^{k})^{T}  {\\bf p}^k}\n",
    "   $$\n",
    "   \n",
    "   $$\n",
    "   {\\bf p}^{k+1} = {\\bf r}^{k+1} - \\beta^k{\\bf p}^k\n",
    "   $$\n",
    "\n",
    "   \n",
    "   ### Preconditioned conjugate gradient\n",
    "   \n",
    "   \n",
    "   $$\n",
    "   \\alpha^k = \\frac{{\\bf p}^{k^{T}} {\\bf r}^k}{(A{\\bf p}^{k})^{T}{\\bf p}^k}\n",
    "   $$\n",
    "   \n",
    "      \n",
    "   $$\n",
    "   {\\bf x}^{k+1} = {\\bf x}^k + \\alpha^k {\\bf p}^k\n",
    "   $$\n",
    "   \n",
    "   $$\n",
    "   {\\bf r}^{k+1} = {\\bf r}^k - \\alpha^kA {\\bf p}^k\n",
    "   $$\n",
    "\n",
    "$$\n",
    "P{\\bf z}^{k+1} = {\\bf r}^{k+1}\n",
    "$$\n",
    "\n",
    "   $$\n",
    "   \\beta^k = \\frac{(A{\\bf p}^{k})^{T}{\\bf z}^{k+1}}{{\\bf p}^{k^T}A  {\\bf p}^k}\n",
    "   $$\n",
    "   \n",
    "   $$\n",
    "   {\\bf p}^{k+1} = {\\bf z}^{k+1} - \\beta^k{\\bf p}^k\n",
    "   $$\n"
   ]
  },
  {
   "cell_type": "code",
   "execution_count": 13,
   "metadata": {},
   "outputs": [
    {
     "name": "stdout",
     "output_type": "stream",
     "text": [
      "16 2.70422126826e-17\n",
      "2.90303183784e-15\n"
     ]
    }
   ],
   "source": [
    "def conjugate_gradient(A, b, P, nmax=len(A), eps=1e-10):\n",
    "    pass # TODO\n",
    "\n",
    "sol_conjugate_gradient = conjugate_gradient(A, f, identity(len(A)))\n",
    "print(linalg.norm(sol_conjugate_gradient - u)/linalg.norm(u))"
   ]
  }
 ],
 "metadata": {
  "anaconda-cloud": {},
  "kernelspec": {
   "display_name": "Python 3",
   "language": "python",
   "name": "python3"
  },
  "language_info": {
   "codemirror_mode": {
    "name": "ipython",
    "version": 3
   },
   "file_extension": ".py",
   "mimetype": "text/x-python",
   "name": "python",
   "nbconvert_exporter": "python",
   "pygments_lexer": "ipython3",
   "version": "3.6.9"
  }
 },
 "nbformat": 4,
 "nbformat_minor": 4
}
